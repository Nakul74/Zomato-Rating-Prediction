{
 "cells": [
  {
   "cell_type": "code",
   "execution_count": 1,
   "id": "c9d27ea6",
   "metadata": {},
   "outputs": [],
   "source": [
    "from joblib import load\n",
    "import numpy as np\n",
    "import pandas as pd"
   ]
  },
  {
   "cell_type": "code",
   "execution_count": 2,
   "id": "c6224d57",
   "metadata": {},
   "outputs": [],
   "source": [
    "def predict(data):\n",
    "    preprocessor = load('preprocessor.joblib')\n",
    "    print(preprocessor)\n",
    "    dt = load('dt.joblib')\n",
    "    \n",
    "    data= preprocessor.transform(data)\n",
    "\n",
    "    return dt.predict(data)"
   ]
  },
  {
   "cell_type": "markdown",
   "id": "44d7a78e",
   "metadata": {},
   "source": [
    "#### Testing the model with pywebio"
   ]
  },
  {
   "cell_type": "code",
   "execution_count": 3,
   "id": "3b9b2c80",
   "metadata": {},
   "outputs": [],
   "source": [
    "from pywebio.input import input,TEXT,radio,select,FLOAT,NUMBER\n",
    "from pywebio.output import put_text"
   ]
  },
  {
   "cell_type": "code",
   "execution_count": 4,
   "id": "da87f39b",
   "metadata": {},
   "outputs": [],
   "source": [
    "def predict_review():\n",
    "    data = pd.DataFrame()\n",
    "    cuisines = input(\"Enter the Cuisines ：(eg. NorthIndian Chinese SouthIndian)\", type = TEXT)\n",
    "    data['cuisines'] = [cuisines]\n",
    "    \n",
    "    online_order = radio(\"Onilne order：\", options = ['Yes','NO'])\n",
    "    \n",
    "    if online_order == 'Yes':\n",
    "        online_order = 1\n",
    "    else :\n",
    "        online_order = 0\n",
    "    \n",
    "    data['online_order'] = online_order \n",
    "    \n",
    "    \n",
    "    book_table = radio(\"Book table：\", options = ['Yes','NO'])\n",
    "    \n",
    "    if book_table == 'Yes':\n",
    "        book_table = 1\n",
    "    else :\n",
    "        book_table = 0\n",
    "        \n",
    "    data['book_table'] = book_table \n",
    "        \n",
    "        \n",
    "    votes = input(\"Enter the no of Votes for the Restaurant：\", type = NUMBER)\n",
    "    data['votes'] = votes \n",
    "    \n",
    "    cost = input(\"Enter the approx cost ：\", type = FLOAT)\n",
    "    data['cost'] = cost\n",
    "    \n",
    "    data = data[['online_order', 'book_table', 'votes', 'cuisines', 'cost']]\n",
    "\n",
    "    prediction = predict(data)\n",
    "    put_text('Predicted rating for the restaurant is :',round(prediction[0]))"
   ]
  },
  {
   "cell_type": "code",
   "execution_count": 5,
   "id": "dfadc7ee",
   "metadata": {},
   "outputs": [
    {
     "name": "stdout",
     "output_type": "stream",
     "text": [
      "ColumnTransformer(transformers=[('other', 'passthrough',\n",
      "                                 ['online_order', 'book_table']),\n",
      "                                ('num', StandardScaler(), ['votes', 'cost']),\n",
      "                                ('cat', TfidfVectorizer(), 'cuisines')])\n"
     ]
    }
   ],
   "source": [
    "predict_review()"
   ]
  },
  {
   "cell_type": "code",
   "execution_count": null,
   "id": "a99ecaae",
   "metadata": {},
   "outputs": [],
   "source": []
  }
 ],
 "metadata": {
  "kernelspec": {
   "display_name": "Python 3",
   "language": "python",
   "name": "python3"
  },
  "language_info": {
   "codemirror_mode": {
    "name": "ipython",
    "version": 3
   },
   "file_extension": ".py",
   "mimetype": "text/x-python",
   "name": "python",
   "nbconvert_exporter": "python",
   "pygments_lexer": "ipython3",
   "version": "3.7.7"
  }
 },
 "nbformat": 4,
 "nbformat_minor": 5
}
